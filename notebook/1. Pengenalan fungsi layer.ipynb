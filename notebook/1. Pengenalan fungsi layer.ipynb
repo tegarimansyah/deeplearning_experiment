{
 "cells": [
  {
   "cell_type": "markdown",
   "metadata": {
    "collapsed": true
   },
   "source": [
    "## Untuk menguji coba versi keras yang digunakan"
   ]
  },
  {
   "cell_type": "code",
   "execution_count": 1,
   "metadata": {},
   "outputs": [
    {
     "name": "stderr",
     "output_type": "stream",
     "text": [
      "Using TensorFlow backend.\n"
     ]
    },
    {
     "name": "stdout",
     "output_type": "stream",
     "text": [
      "Menggunakan Keras Versi 2.0.2\n",
      "Backend Tensorflow\n"
     ]
    }
   ],
   "source": [
    "from keras import __version__ as v\n",
    "from keras import backend as K\n",
    "\n",
    "print('Menggunakan Keras Versi ' + str(v))\n",
    "print('Backend ' + str(K.backend().title()))"
   ]
  },
  {
   "cell_type": "markdown",
   "metadata": {
    "collapsed": true
   },
   "source": [
    "## Menggunakan MNIST dengan variasi layer konvolusi\n",
    "\n",
    "MNIST adalah dataset angka dari 0 hingga 9 yang dikenal sebagai \"Hello World\" untuk *image processing*. Terdiri dari 60000 training example dan 10000 testing example. Dataset terdiri dari x berupa gambar dan y label dari gambar tersebut. Dataset secara resmi dapat di download di http://yann.lecun.com/exdb/mnist/."
   ]
  },
  {
   "cell_type": "code",
   "execution_count": 2,
   "metadata": {
    "collapsed": true
   },
   "outputs": [],
   "source": [
    "from keras.datasets import mnist\n",
    "(trainData, trainLabels), (testData, testLabels) = mnist.load_data()"
   ]
  },
  {
   "cell_type": "markdown",
   "metadata": {},
   "source": [
    "## Konfigurasi Umum\n",
    "\n",
    "In the neural network terminology:\n",
    "\n",
    "* one **epoch** = one forward pass and one backward pass of all the training examples. Nilai epochs yang kecil akan membuat hasil underfitting, ketika terlalu besar maka hanya mengingat dari dataset training saja.\n",
    "* **batch size** = the number of training examples in one forward/backward pass. The higher the batch size, the more memory space you'll need. Typically networks trains faster with mini-batches. That's because we update weights after each propagation.  If we used all samples during propagation we would make only 1 update for the network's parameter.\n",
    "* **number of iterations** = number of passes, each pass using [batch size] number of examples. To be clear, one pass = one forward pass + one backward pass (we do not count the forward pass and backward pass as two different passes).\n",
    "\n",
    "Example: if you have 1000 training examples, and your batch size is 500, then it will take 2 iterations to complete 1 epoch.\n",
    "\n",
    "* **num_classes** merupakan banyaknya kelas yang diprediksi. Nilainya berdasarkan keluaran dari *inner product*.\n",
    "\n",
    "* **img_rows, img_cols** merupakan width dan height dari dataset yang digunakan."
   ]
  },
  {
   "cell_type": "code",
   "execution_count": 3,
   "metadata": {
    "collapsed": true
   },
   "outputs": [],
   "source": [
    "batch_size = 128\n",
    "num_classes = 10\n",
    "epochs = 12\n",
    "\n",
    "# input image dimensions\n",
    "img_rows, img_cols = 28, 28"
   ]
  },
  {
   "cell_type": "markdown",
   "metadata": {},
   "source": [
    "## Konfigurasi Dataset\n",
    "Dataset MNIST dilakukan penyesuaian dimana ukuran dirubah berdasarkan *image dimensions* yang telah kita tentukan sebelumnya. Angka 1 mengindikasikan gambar hanya tersedia dalam 1 channel atau grayscale.\n",
    "\n",
    "**Nb**: Penulisan channel untuk tensorflow berada di belakang.\n",
    "\n",
    "Selanjutnya, perubahan nilai grayscale menggunakan skala 0-1 dari sebelumnya 0-255. Karena sekarang menggunakan python2, agar mendapatkan nilai float maka harus dibagi dengan nilai float juga."
   ]
  },
  {
   "cell_type": "code",
   "execution_count": 4,
   "metadata": {},
   "outputs": [
    {
     "name": "stdout",
     "output_type": "stream",
     "text": [
      "('trainData shape:', (60000, 28, 28, 1))\n",
      "(60000, 'train samples')\n",
      "(10000, 'test samples')\n"
     ]
    }
   ],
   "source": [
    "if K.image_data_format() == 'channels_first': # Theano\n",
    "    trainData = trainData.reshape(trainData.shape[0], 1, img_rows, img_cols)\n",
    "    testData = testData.reshape(testData.shape[0], 1, img_rows, img_cols)\n",
    "    input_shape = (1, img_rows, img_cols)\n",
    "else: # Tensorflow\n",
    "    trainData = trainData.reshape(trainData.shape[0], img_rows, img_cols, 1)\n",
    "    testData = testData.reshape(testData.shape[0], img_rows, img_cols, 1)\n",
    "    input_shape = (img_rows, img_cols, 1)\n",
    "\n",
    "trainData = trainData.astype('float32')\n",
    "testData = testData.astype('float32')\n",
    "trainData /= 255.0 # Merubah scaling 0 - 255 menjadi 0 - 1.0\n",
    "testData /= 255.0\n",
    "\n",
    "print('trainData shape:', trainData.shape)\n",
    "print(trainData.shape[0], 'train samples')\n",
    "print(testData.shape[0], 'test samples')\n",
    "\n",
    "# convert class vectors to binary class matrices\n",
    "trainLabels = keras.utils.to_categorical(trainLabels, num_classes)\n",
    "testLabels = keras.utils.to_categorical(testLabels, num_classes)"
   ]
  },
  {
   "cell_type": "markdown",
   "metadata": {},
   "source": [
    "## Struktur data sekuensial dengan **model**\n",
    "The core data structure of Keras is a model, a way to organize layers. The simplest type of model is the Sequential model, a linear stack of layers. For more complex architectures, you should use the [Keras functional API](http://keras.io/getting-started/functional-api-guide), which allows to build arbitrary graphs of layers."
   ]
  },
  {
   "cell_type": "code",
   "execution_count": 5,
   "metadata": {
    "collapsed": true
   },
   "outputs": [],
   "source": [
    "from keras.models import Sequential\n",
    "from keras.layers import Dense, Dropout, Flatten\n",
    "from keras.layers import Conv2D, MaxPooling2D\n",
    "\n",
    "model = Sequential()\n",
    "model.add(Conv2D(32, kernel_size=(3, 3),\n",
    "                 activation='relu',\n",
    "                 input_shape=input_shape))\n",
    "model.add(Conv2D(64, (3, 3), activation='relu'))\n",
    "model.add(MaxPooling2D(pool_size=(2, 2)))\n",
    "model.add(Dropout(0.25))\n",
    "model.add(Flatten())\n",
    "model.add(Dense(128, activation='relu'))\n",
    "model.add(Dropout(0.5))\n",
    "model.add(Dense(num_classes, activation='softmax'))"
   ]
  },
  {
   "cell_type": "markdown",
   "metadata": {},
   "source": [
    "## Beberapa opsi untuk layer\n",
    "\n",
    "### *[Core Layer](https://keras.io/layers/core/)*\n",
    "\n",
    "#### Dense (Fully connected / inner product)\n",
    "Untuk menggabungkan semua neuron dan melakukan klasifikasi (pada layer terakhir). Output merupakan banyaknya kelas yang dapat di klasifikasi.\n",
    "\n",
    "*keras.layers.core.Dense(**units**, **activation**=None, **use_bias**=True, **kernel_initializer**='glorot_uniform', **bias_initializer**='zeros', **kernel_regularizer**=None, **bias_regularizer**=None, **activity_regularizer**=None, **kernel_constraint**=None, **bias_constraint**=None)*\n",
    "\n",
    "#### Dropout\n",
    "Mencegah overfitting berdasarkan rate yang diberikan.\n",
    "\n",
    "*keras.layers.core.Dropout(**rate**, **noise_shape**=None, **seed**=None)*\n",
    "\n",
    "#### Flatten\n",
    "Untuk menggabungkan image shape menjadi vector (matriks 1 dimensi).\n",
    "\n",
    "*keras.layers.core.Flatten()*\n",
    "\n",
    "\n",
    "### *[Convolution Layer](https://keras.io/layers/convolutional)*\n",
    "\n",
    "#### Conv2D\n",
    "Konvolusi untuk matriks 2D seperti gambar. Opsi yang harus ditentukan adalah filters (output) dan kernel_size (dan input_shape jika menjadi layer pertama).\n",
    "\n",
    "*keras.layers.convolutional.Conv2D(**filters**, **kernel_size**, **strides**=(1, 1), **padding**='valid', **data_format**=None, **dilation_rate**=(1, 1), **activation**=None, **use_bias**=True, **kernel_initializer**='glorot_uniform', **bias_initializer**='zeros', **kernel_regularizer**=None, **bias_regularizer**=None, **activity_regularizer**=None, **kernel_constraint**=None, **bias_constraint**=None)*\n",
    "\n",
    "### *[Pooling Layer](https://keras.io/layers/pooling)*\n",
    "\n",
    "#### MaxPooling2D\n",
    "Pooling untuk matriks 2D\n",
    "\n",
    "*keras.layers.pooling.MaxPooling2D(**pool_size**=(2, 2), **strides**=None, **padding**='valid', **data_format**=None)*\n",
    "\n",
    "---\n",
    "**Nb**: [Apa bedanya **strides** dan **padding**]( https://adeshpande3.github.io/A-Beginner%27s-Guide-To-Understanding-Convolutional-Neural-Networks-Part-2/)"
   ]
  },
  {
   "cell_type": "markdown",
   "metadata": {},
   "source": [
    "## Konfigurasi model\n",
    "\n",
    "Once your model looks good, configure its learning process with **.compile()**. \n",
    "\n",
    "*compile(self, **optimizer**, **loss**, **metrics**=None, **sample_weight_mode**=None)*\n",
    "\n",
    "Argumen yang diberikan adalah [loss](https://keras.io/losses/) dan [optimizer](https://keras.io/optimizers/)\n",
    "\n",
    "Kita juga bisa melihat rangkuman dari model yang kita buat dengan **.summary()**."
   ]
  },
  {
   "cell_type": "code",
   "execution_count": 6,
   "metadata": {},
   "outputs": [
    {
     "name": "stdout",
     "output_type": "stream",
     "text": [
      "_________________________________________________________________\n",
      "Layer (type)                 Output Shape              Param #   \n",
      "=================================================================\n",
      "conv2d_1 (Conv2D)            (None, 26, 26, 32)        320       \n",
      "_________________________________________________________________\n",
      "conv2d_2 (Conv2D)            (None, 24, 24, 64)        18496     \n",
      "_________________________________________________________________\n",
      "max_pooling2d_1 (MaxPooling2 (None, 12, 12, 64)        0         \n",
      "_________________________________________________________________\n",
      "dropout_1 (Dropout)          (None, 12, 12, 64)        0         \n",
      "_________________________________________________________________\n",
      "flatten_1 (Flatten)          (None, 9216)              0         \n",
      "_________________________________________________________________\n",
      "dense_1 (Dense)              (None, 128)               1179776   \n",
      "_________________________________________________________________\n",
      "dropout_2 (Dropout)          (None, 128)               0         \n",
      "_________________________________________________________________\n",
      "dense_2 (Dense)              (None, 10)                1290      \n",
      "=================================================================\n",
      "Total params: 1,199,882.0\n",
      "Trainable params: 1,199,882.0\n",
      "Non-trainable params: 0.0\n",
      "_________________________________________________________________\n"
     ]
    }
   ],
   "source": [
    "model.compile(loss=keras.losses.categorical_crossentropy,\n",
    "              optimizer=keras.optimizers.Adadelta(),\n",
    "              metrics=['accuracy'])\n",
    "\n",
    "# Compile dengan konfigurasi lebih banyak\n",
    "# model.compile(loss=keras.losses.categorical_crossentropy,\n",
    "#              optimizer=keras.optimizers.SGD(lr=0.01, momentum=0.9, nesterov=True))\n",
    "\n",
    "model.summary()"
   ]
  },
  {
   "cell_type": "markdown",
   "metadata": {},
   "source": [
    "### Learning\n",
    "\n",
    "Learning dilakukan dengan **.fit()**\n",
    "\n",
    "*fit(self, **x**, **y**, **batch_size**=32, **epochs**=10, **verbose**=1, **callbacks**=None, **validation_split**=0.0, **validation_data**=None, **shuffle**=True, **class_weight**=None, **sample_weight**=None, **initial_epoch**=0)*\n",
    "\n",
    "Untuk mengujinya, bisa dengan **.evaluate**"
   ]
  },
  {
   "cell_type": "code",
   "execution_count": 7,
   "metadata": {},
   "outputs": [
    {
     "name": "stdout",
     "output_type": "stream",
     "text": [
      "Train on 60000 samples, validate on 10000 samples\n",
      "Epoch 1/12\n",
      "60000/60000 [==============================] - 4s - loss: 0.3312 - acc: 0.9003 - val_loss: 0.0786 - val_acc: 0.9765\n",
      "Epoch 2/12\n",
      "60000/60000 [==============================] - 4s - loss: 0.1127 - acc: 0.9659 - val_loss: 0.0533 - val_acc: 0.9815\n",
      "Epoch 3/12\n",
      "60000/60000 [==============================] - 4s - loss: 0.0859 - acc: 0.9752 - val_loss: 0.0440 - val_acc: 0.9856\n",
      "Epoch 4/12\n",
      "60000/60000 [==============================] - 5s - loss: 0.0735 - acc: 0.9784 - val_loss: 0.0394 - val_acc: 0.9860\n",
      "Epoch 5/12\n",
      "60000/60000 [==============================] - 4s - loss: 0.0628 - acc: 0.9817 - val_loss: 0.0343 - val_acc: 0.9881\n",
      "Epoch 6/12\n",
      "60000/60000 [==============================] - 4s - loss: 0.0562 - acc: 0.9833 - val_loss: 0.0335 - val_acc: 0.9888\n",
      "Epoch 7/12\n",
      "60000/60000 [==============================] - 4s - loss: 0.0496 - acc: 0.9851 - val_loss: 0.0299 - val_acc: 0.9904\n",
      "Epoch 8/12\n",
      "60000/60000 [==============================] - 4s - loss: 0.0462 - acc: 0.9866 - val_loss: 0.0293 - val_acc: 0.9901\n",
      "Epoch 9/12\n",
      "60000/60000 [==============================] - 4s - loss: 0.0431 - acc: 0.9869 - val_loss: 0.0303 - val_acc: 0.9901\n",
      "Epoch 10/12\n",
      "60000/60000 [==============================] - 4s - loss: 0.0417 - acc: 0.9870 - val_loss: 0.0297 - val_acc: 0.9899\n",
      "Epoch 11/12\n",
      "60000/60000 [==============================] - 4s - loss: 0.0382 - acc: 0.9883 - val_loss: 0.0281 - val_acc: 0.9905\n",
      "Epoch 12/12\n",
      "60000/60000 [==============================] - 4s - loss: 0.0369 - acc: 0.9884 - val_loss: 0.0294 - val_acc: 0.9905\n"
     ]
    },
    {
     "data": {
      "text/plain": [
       "<keras.callbacks.History at 0x7ffa9d843d90>"
      ]
     },
     "execution_count": 7,
     "metadata": {},
     "output_type": "execute_result"
    }
   ],
   "source": [
    "model.fit(trainData, trainLabels,\n",
    "        batch_size=batch_size,\n",
    "        epochs=epochs,\n",
    "        verbose=1,\n",
    "        validation_data=(testData, testLabels))"
   ]
  },
  {
   "cell_type": "code",
   "execution_count": 8,
   "metadata": {},
   "outputs": [
    {
     "name": "stdout",
     "output_type": "stream",
     "text": [
      "('Test loss:', 0.029404803463989812)\n",
      "('Test accuracy:', 0.99050000000000005)\n"
     ]
    }
   ],
   "source": [
    "(loss, accuracy) = model.evaluate(testData, testLabels, verbose=0)\n",
    "print('Test loss:', loss)\n",
    "print('Test accuracy:', accuracy)"
   ]
  },
  {
   "cell_type": "markdown",
   "metadata": {},
   "source": [
    "### Predicting"
   ]
  },
  {
   "cell_type": "code",
   "execution_count": 9,
   "metadata": {
    "scrolled": false
   },
   "outputs": [
    {
     "name": "stdout",
     "output_type": "stream",
     "text": [
      "[[  1.22495516e-14   5.85485480e-11   2.54987502e-12   3.67812470e-14\n",
      "    1.00000000e+00   3.77313659e-13   2.12524946e-11   3.41088990e-10\n",
      "    1.05070709e-11   6.24187679e-09]]\n"
     ]
    },
    {
     "data": {
      "image/png": "[encoded data removed]",
      "text/plain": [
       "<matplotlib.figure.Figure at 0x7ffa5d6e74d0>"
      ]
     },
     "metadata": {},
     "output_type": "display_data"
    },
    {
     "name": "stdout",
     "output_type": "stream",
     "text": [
      "[INFO] Predicted:4, Actual: 4\n",
      "[[  8.49127355e-13   6.23464752e-11   2.87939169e-11   8.19448350e-13\n",
      "    9.99999881e-01   6.47434783e-14   3.60048406e-12   7.23474891e-10\n",
      "    1.44380979e-10   5.96990688e-08]]\n"
     ]
    },
    {
     "data": {
      "image/png": "[encoded data removed]",
      "text/plain": [
       "<matplotlib.figure.Figure at 0x7ffa5c1af8d0>"
      ]
     },
     "metadata": {},
     "output_type": "display_data"
    },
    {
     "name": "stdout",
     "output_type": "stream",
     "text": [
      "[INFO] Predicted:4, Actual: 4\n",
      "[[  2.81239032e-09   9.99998927e-01   3.88097838e-08   9.99616723e-10\n",
      "    8.16241368e-07   5.00870545e-09   2.17622205e-08   1.20945330e-07\n",
      "    1.55278901e-08   1.92420790e-09]]\n"
     ]
    },
    {
     "data": {
      "image/png": "[encoded data removed]",
      "text/plain": [
       "<matplotlib.figure.Figure at 0x7ffa5c1affd0>"
      ]
     },
     "metadata": {},
     "output_type": "display_data"
    },
    {
     "name": "stdout",
     "output_type": "stream",
     "text": [
      "[INFO] Predicted:1, Actual: 1\n",
      "[[  8.79393058e-10   9.99998450e-01   5.42947873e-08   8.16919155e-09\n",
      "    8.14740758e-07   2.38823694e-09   2.64099871e-08   5.65243738e-07\n",
      "    2.00578114e-08   1.93145810e-09]]\n"
     ]
    },
    {
     "data": {
      "image/png": "[encoded data removed]",
      "text/plain": [
       "<matplotlib.figure.Figure at 0x7ffa5c082e50>"
      ]
     },
     "metadata": {},
     "output_type": "display_data"
    },
    {
     "name": "stdout",
     "output_type": "stream",
     "text": [
      "[INFO] Predicted:1, Actual: 1\n",
      "[[  3.70306865e-04   1.91663191e-01   6.67817950e-01   1.29232099e-02\n",
      "    7.63981589e-05   4.25159931e-04   8.29793680e-06   5.57032065e-04\n",
      "    1.25397146e-01   7.61351839e-04]]\n"
     ]
    },
    {
     "data": {
      "image/png": "[encoded data removed]",
      "text/plain": [
       "<matplotlib.figure.Figure at 0x7ffa9c7dbd50>"
      ]
     },
     "metadata": {},
     "output_type": "display_data"
    },
    {
     "name": "stdout",
     "output_type": "stream",
     "text": [
      "[INFO] Predicted:2, Actual: 2\n",
      "[[  4.13134506e-13   6.59385662e-16   1.02976451e-17   6.19164234e-11\n",
      "    5.94992805e-14   1.00000000e+00   1.51508008e-11   2.69767331e-15\n",
      "    5.27470862e-12   9.27007970e-10]]\n"
     ]
    },
    {
     "data": {
      "image/png": "[encoded data removed]",
      "text/plain": [
       "<matplotlib.figure.Figure at 0x7ffa5c09a790>"
      ]
     },
     "metadata": {},
     "output_type": "display_data"
    },
    {
     "name": "stdout",
     "output_type": "stream",
     "text": [
      "[INFO] Predicted:5, Actual: 5\n",
      "[[  1.22740539e-06   1.90558480e-09   2.41552889e-09   1.33074025e-07\n",
      "    3.44698527e-08   1.26351218e-03   9.98722017e-01   3.76814080e-10\n",
      "    1.27346993e-05   3.33501958e-07]]\n"
     ]
    },
    {
     "data": {
      "image/png": "[encoded data removed]",
      "text/plain": [
       "<matplotlib.figure.Figure at 0x7ffa5c09a610>"
      ]
     },
     "metadata": {},
     "output_type": "display_data"
    },
    {
     "name": "stdout",
     "output_type": "stream",
     "text": [
      "[INFO] Predicted:6, Actual: 6\n",
      "[[  4.06615019e-11   5.88175642e-09   6.04486488e-08   1.21267281e-08\n",
      "    1.35631825e-10   4.83102653e-13   1.73953584e-13   9.99999881e-01\n",
      "    5.59216701e-11   1.06845661e-08]]\n"
     ]
    },
    {
     "data": {
      "image/png": "[encoded data removed]",
      "text/plain": [
       "<matplotlib.figure.Figure at 0x7ffa40174190>"
      ]
     },
     "metadata": {},
     "output_type": "display_data"
    },
    {
     "name": "stdout",
     "output_type": "stream",
     "text": [
      "[INFO] Predicted:7, Actual: 7\n",
      "[[  8.77503282e-07   6.88051449e-10   9.08712323e-08   7.02406098e-08\n",
      "    1.83346245e-07   5.76901698e-07   6.03724093e-09   2.74399395e-06\n",
      "    2.30376870e-07   9.99995232e-01]]\n"
     ]
    },
    {
     "data": {
      "image/png": "[encoded data removed]",
      "text/plain": [
       "<matplotlib.figure.Figure at 0x7ffa240f8d10>"
      ]
     },
     "metadata": {},
     "output_type": "display_data"
    },
    {
     "name": "stdout",
     "output_type": "stream",
     "text": [
      "[INFO] Predicted:9, Actual: 9\n",
      "[[  5.68821899e-12   1.51777421e-13   8.53474972e-15   1.14115528e-09\n",
      "    6.35407560e-11   1.00000000e+00   5.84855409e-09   5.70862801e-13\n",
      "    9.97751570e-09   2.81764456e-09]]\n"
     ]
    },
    {
     "data": {
      "image/png": "[encoded data removed]",
      "text/plain": [
       "<matplotlib.figure.Figure at 0x7ffa400f5490>"
      ]
     },
     "metadata": {},
     "output_type": "display_data"
    },
    {
     "name": "stdout",
     "output_type": "stream",
     "text": [
      "[INFO] Predicted:5, Actual: 5\n"
     ]
    }
   ],
   "source": [
    "import numpy as np\n",
    "import matplotlib.pyplot as plt\n",
    "import keras.preprocessing.image as image\n",
    "\n",
    "for i in np.random.choice(np.arange(0, len(testLabels)), size=(10,)):\n",
    "    # classify the digit\n",
    "    probs = model.predict(testData[np.newaxis, i])\n",
    "    print(probs)\n",
    "    prediction = probs.argmax(axis=1)\n",
    "    \n",
    "    # resize the image from a 28 x 28 image to a 96 x 96 image so we\n",
    "    # can better see it\n",
    "    img = image.array_to_img(testData[i] * 255)\n",
    "    plt.imshow(img)\n",
    "    plt.show()\n",
    "    # show the image and prediction\n",
    "    print(\"[INFO] Predicted:\" + str(prediction[0]) + \", Actual: \" + str(np.argmax(testLabels[i])))"
   ]
  },
  {
   "cell_type": "code",
   "execution_count": null,
   "metadata": {
    "collapsed": true
   },
   "outputs": [],
   "source": []
  }
 ],
 "metadata": {
  "kernelspec": {
   "display_name": "Python 2",
   "language": "python",
   "name": "python2"
  },
  "language_info": {
   "codemirror_mode": {
    "name": "ipython",
    "version": 2
   },
   "file_extension": ".py",
   "mimetype": "text/x-python",
   "name": "python",
   "nbconvert_exporter": "python",
   "pygments_lexer": "ipython2",
   "version": "2.7.12"
  }
 },
 "nbformat": 4,
 "nbformat_minor": 2
}
