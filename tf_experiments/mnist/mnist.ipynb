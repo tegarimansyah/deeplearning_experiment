{
 "cells": [
  {
   "cell_type": "code",
   "execution_count": 2,
   "metadata": {},
   "outputs": [
    {
     "name": "stdout",
     "output_type": "stream",
     "text": [
      "trainData shape: (60000, 28, 28, 1)\n",
      "60000 train samples\n",
      "10000 test samples\n"
     ]
    }
   ],
   "source": [
    "'''\n",
    "Tegar Imansyah\n",
    "MNIST with tensorflow and keras\n",
    "\n",
    "ref:\n",
    "1. https://github.com/fchollet/keras/blob/master/examples/mnist_cnn.py\n",
    "2. http://www.pyimagesearch.com/2016/08/01/lenet-convolutional-neural-network-in-python/\n",
    "'''\n",
    "\n",
    "from __future__ import print_function\n",
    "import keras\n",
    "from keras.datasets import mnist\n",
    "from net.lenet import LeNet\n",
    "from keras import backend as K\n",
    "import numpy as np\n",
    "import matplotlib.pyplot as plt\n",
    "import keras.preprocessing.image as image\n",
    "\n",
    "\n",
    "batch_size = 128\n",
    "num_classes = 10\n",
    "epochs = 12\n",
    "\n",
    "# input image dimensions\n",
    "img_rows, img_cols = 28, 28\n",
    "\n",
    "# the data, shuffled and split between train and test sets\n",
    "(trainData, trainLabels), (testData, testLabels) = mnist.load_data()\n",
    "\n",
    "if K.image_data_format() == 'channels_first':\n",
    "    trainData = trainData.reshape(trainData.shape[0], 1, img_rows, img_cols)\n",
    "    testData = testData.reshape(testData.shape[0], 1, img_rows, img_cols)\n",
    "    input_shape = (1, img_rows, img_cols)\n",
    "else:\n",
    "    trainData = trainData.reshape(trainData.shape[0], img_rows, img_cols, 1)\n",
    "    testData = testData.reshape(testData.shape[0], img_rows, img_cols, 1)\n",
    "    input_shape = (img_rows, img_cols, 1)\n",
    "\n",
    "trainData = trainData.astype('float32')\n",
    "testData = testData.astype('float32')\n",
    "trainData /= 255.0 # Merubah scaling 0 - 255 menjadi 0 - 1.0\n",
    "testData /= 255.0\n",
    "\n",
    "print('trainData shape:', trainData.shape)\n",
    "print(trainData.shape[0], 'train samples')\n",
    "print(testData.shape[0], 'test samples')\n",
    "\n",
    "# convert class vectors to binary class matrices\n",
    "trainLabels = keras.utils.to_categorical(trainLabels, num_classes)\n",
    "testLabels = keras.utils.to_categorical(testLabels, num_classes)"
   ]
  },
  {
   "cell_type": "code",
   "execution_count": 4,
   "metadata": {},
   "outputs": [
    {
     "name": "stdout",
     "output_type": "stream",
     "text": [
      "[INFO] drawing networks...\n",
      "[INFO] compiling...\n"
     ]
    }
   ],
   "source": [
    "print(\"[INFO] drawing networks...\")\n",
    "model = LeNet.build(input_shape=input_shape, classes=num_classes,\n",
    "    weightsPath=None)\n",
    "\n",
    "print(\"[INFO] compiling...\")\n",
    "model.compile(loss=keras.losses.categorical_crossentropy,\n",
    "              optimizer=keras.optimizers.Adadelta(),\n",
    "              metrics=['accuracy'])"
   ]
  },
  {
   "cell_type": "code",
   "execution_count": 5,
   "metadata": {},
   "outputs": [
    {
     "name": "stdout",
     "output_type": "stream",
     "text": [
      "[INFO] training...\n",
      "Train on 60000 samples, validate on 10000 samples\n",
      "Epoch 1/12\n",
      "60000/60000 [==============================] - 5s - loss: 0.3376 - acc: 0.8959 - val_loss: 0.0798 - val_acc: 0.9757\n",
      "Epoch 2/12\n",
      "60000/60000 [==============================] - 4s - loss: 0.1115 - acc: 0.9671 - val_loss: 0.0505 - val_acc: 0.9833\n",
      "Epoch 3/12\n",
      "60000/60000 [==============================] - 4s - loss: 0.0824 - acc: 0.9758 - val_loss: 0.0415 - val_acc: 0.9862\n",
      "Epoch 4/12\n",
      "60000/60000 [==============================] - 4s - loss: 0.0700 - acc: 0.9789 - val_loss: 0.0393 - val_acc: 0.9866\n",
      "Epoch 5/12\n",
      "60000/60000 [==============================] - 4s - loss: 0.0603 - acc: 0.9824 - val_loss: 0.0351 - val_acc: 0.9877\n",
      "Epoch 6/12\n",
      "60000/60000 [==============================] - 4s - loss: 0.0559 - acc: 0.9829 - val_loss: 0.0347 - val_acc: 0.9882\n",
      "Epoch 7/12\n",
      "60000/60000 [==============================] - 4s - loss: 0.0513 - acc: 0.9850 - val_loss: 0.0319 - val_acc: 0.9887\n",
      "Epoch 8/12\n",
      "60000/60000 [==============================] - 4s - loss: 0.0466 - acc: 0.9860 - val_loss: 0.0323 - val_acc: 0.9884\n",
      "Epoch 9/12\n",
      "60000/60000 [==============================] - 4s - loss: 0.0431 - acc: 0.9875 - val_loss: 0.0322 - val_acc: 0.9887\n",
      "Epoch 10/12\n",
      "60000/60000 [==============================] - 4s - loss: 0.0404 - acc: 0.9883 - val_loss: 0.0306 - val_acc: 0.9899\n",
      "Epoch 11/12\n",
      "60000/60000 [==============================] - 4s - loss: 0.0379 - acc: 0.9888 - val_loss: 0.0301 - val_acc: 0.9894\n",
      "Epoch 12/12\n",
      "60000/60000 [==============================] - 4s - loss: 0.0361 - acc: 0.9892 - val_loss: 0.0314 - val_acc: 0.9890\n",
      "[INFO] evaluating...\n",
      "Test loss: 0.0313724999054\n",
      "Test accuracy: 0.989\n"
     ]
    }
   ],
   "source": [
    "print(\"[INFO] training...\")\n",
    "model.fit(trainData, trainLabels,\n",
    "        batch_size=batch_size,\n",
    "        epochs=epochs,\n",
    "        verbose=1,\n",
    "        validation_data=(testData, testLabels))\n",
    "print(\"[INFO] evaluating...\")\n",
    "(loss, accuracy) = model.evaluate(testData, testLabels, verbose=0)\n",
    "print('Test loss:', loss)\n",
    "print('Test accuracy:', accuracy)"
   ]
  },
  {
   "cell_type": "code",
   "execution_count": 8,
   "metadata": {},
   "outputs": [
    {
     "name": "stdout",
     "output_type": "stream",
     "text": [
      "(28, 28, 1)\n"
     ]
    }
   ],
   "source": [
    "print(testData[0].shape)"
   ]
  },
  {
   "cell_type": "code",
   "execution_count": 13,
   "metadata": {
    "scrolled": false
   },
   "outputs": [
    {
     "name": "stdout",
     "output_type": "stream",
     "text": [
      "[[  9.63510843e-07   2.65504605e-06   1.57636311e-03   9.98353362e-01\n",
      "    7.33594305e-08   1.00455634e-06   7.10801373e-07   5.59760556e-05\n",
      "    7.65966706e-06   1.30309797e-06]]\n"
     ]
    },
    {
     "data": {
      "image/png": "[encoded data removed]",
      "text/plain": [
       "<matplotlib.figure.Figure at 0x7f8c786fe510>"
      ]
     },
     "metadata": {},
     "output_type": "display_data"
    },
    {
     "name": "stdout",
     "output_type": "stream",
     "text": [
      "[INFO] Predicted:3, Actual: 3\n",
      "[[  1.15041354e-08   1.13954954e-07   2.15732712e-07   9.99990821e-01\n",
      "    3.61415564e-09   2.27981832e-06   8.36824388e-10   1.41811640e-07\n",
      "    1.35159439e-06   5.04803302e-06]]\n"
     ]
    },
    {
     "data": {
      "image/png": "[encoded data removed]",
      "text/plain": [
       "<matplotlib.figure.Figure at 0x7f8c8f963910>"
      ]
     },
     "metadata": {},
     "output_type": "display_data"
    },
    {
     "name": "stdout",
     "output_type": "stream",
     "text": [
      "[INFO] Predicted:3, Actual: 3\n",
      "[[  9.86624915e-09   3.50730893e-08   9.99998927e-01   1.59038542e-08\n",
      "    1.91142963e-10   5.99290582e-14   3.82356473e-12   1.11017607e-06\n",
      "    1.34020235e-08   1.21501975e-11]]\n"
     ]
    },
    {
     "data": {
      "image/png": "[encoded data removed]",
      "text/plain": [
       "<matplotlib.figure.Figure at 0x7f8c78754fd0>"
      ]
     },
     "metadata": {},
     "output_type": "display_data"
    },
    {
     "name": "stdout",
     "output_type": "stream",
     "text": [
      "[INFO] Predicted:2, Actual: 2\n",
      "[[  3.65604116e-08   4.30845297e-08   2.60180322e-09   5.13212528e-10\n",
      "    1.79790356e-06   1.91693257e-08   4.45541416e-11   9.99984980e-01\n",
      "    1.13951835e-08   1.31011820e-05]]\n"
     ]
    },
    {
     "data": {
      "image/png": "[encoded data removed]",
      "text/plain": [
       "<matplotlib.figure.Figure at 0x7f8c800521d0>"
      ]
     },
     "metadata": {},
     "output_type": "display_data"
    },
    {
     "name": "stdout",
     "output_type": "stream",
     "text": [
      "[INFO] Predicted:7, Actual: 7\n",
      "[[  4.24746194e-09   1.87130070e-07   4.74494506e-08   6.09630717e-07\n",
      "    4.10652603e-04   5.40217684e-07   1.71648570e-10   8.61157241e-05\n",
      "    6.54071337e-05   9.99436438e-01]]\n"
     ]
    },
    {
     "data": {
      "image/png": "[encoded data removed]",
      "text/plain": [
       "<matplotlib.figure.Figure at 0x7f8c61f0c8d0>"
      ]
     },
     "metadata": {},
     "output_type": "display_data"
    },
    {
     "name": "stdout",
     "output_type": "stream",
     "text": [
      "[INFO] Predicted:9, Actual: 9\n",
      "[[  4.83477480e-09   9.99959111e-01   4.48799511e-07   8.36597636e-08\n",
      "    2.65258568e-05   8.32461126e-07   6.74785667e-07   1.72864517e-07\n",
      "    1.21167268e-05   1.59581290e-08]]\n"
     ]
    },
    {
     "data": {
      "image/png": "[encoded data removed]",
      "text/plain": [
       "<matplotlib.figure.Figure at 0x7f8c787df8d0>"
      ]
     },
     "metadata": {},
     "output_type": "display_data"
    },
    {
     "name": "stdout",
     "output_type": "stream",
     "text": [
      "[INFO] Predicted:1, Actual: 1\n",
      "[[  5.30224642e-10   2.43057883e-07   9.99999046e-01   5.56526402e-07\n",
      "    2.40256981e-10   3.33624513e-12   2.76561898e-11   1.01089714e-08\n",
      "    6.65929676e-08   4.51803352e-11]]\n"
     ]
    },
    {
     "data": {
      "image/png": "[encoded data removed]",
      "text/plain": [
       "<matplotlib.figure.Figure at 0x7f8c8e4da7d0>"
      ]
     },
     "metadata": {},
     "output_type": "display_data"
    },
    {
     "name": "stdout",
     "output_type": "stream",
     "text": [
      "[INFO] Predicted:2, Actual: 2\n",
      "[[  5.15890195e-12   3.48175742e-12   3.44753698e-10   1.28143459e-11\n",
      "    4.73885819e-10   1.27240191e-10   7.72143547e-12   4.84170412e-11\n",
      "    1.00000000e+00   3.52717477e-09]]\n"
     ]
    },
    {
     "data": {
      "image/png": "[encoded data removed]",
      "text/plain": [
       "<matplotlib.figure.Figure at 0x7f8c61f8fe90>"
      ]
     },
     "metadata": {},
     "output_type": "display_data"
    },
    {
     "name": "stdout",
     "output_type": "stream",
     "text": [
      "[INFO] Predicted:8, Actual: 8\n",
      "[[  2.41228975e-08   9.54770396e-09   9.38877349e-08   4.86709606e-09\n",
      "    4.18432862e-08   2.32122849e-10   1.98364849e-12   9.99999642e-01\n",
      "    2.23881053e-10   2.41676759e-07]]\n"
     ]
    },
    {
     "data": {
      "image/png": "[encoded data removed]",
      "text/plain": [
       "<matplotlib.figure.Figure at 0x7f8c8e4daa50>"
      ]
     },
     "metadata": {},
     "output_type": "display_data"
    },
    {
     "name": "stdout",
     "output_type": "stream",
     "text": [
      "[INFO] Predicted:7, Actual: 7\n",
      "[[  2.01834372e-13   4.60327577e-14   4.82823337e-10   3.70958646e-12\n",
      "    2.45636740e-11   4.39489460e-12   8.01949381e-14   3.66177661e-12\n",
      "    1.00000000e+00   1.64088321e-09]]\n"
     ]
    },
    {
     "data": {
      "image/png": "[encoded data removed]",
      "text/plain": [
       "<matplotlib.figure.Figure at 0x7f8c61e779d0>"
      ]
     },
     "metadata": {},
     "output_type": "display_data"
    },
    {
     "name": "stdout",
     "output_type": "stream",
     "text": [
      "[INFO] Predicted:8, Actual: 8\n"
     ]
    }
   ],
   "source": [
    "for i in np.random.choice(np.arange(0, len(testLabels)), size=(10,)):\n",
    "    # classify the digit\n",
    "    probs = model.predict(testData[np.newaxis, i])\n",
    "    print(probs)\n",
    "    prediction = probs.argmax(axis=1)\n",
    "    \n",
    "    # resize the image from a 28 x 28 image to a 96 x 96 image so we\n",
    "    # can better see it\n",
    "    img = image.array_to_img(testData[i] * 255)\n",
    "    plt.imshow(img)\n",
    "    plt.show()\n",
    "    # show the image and prediction\n",
    "    print(\"[INFO] Predicted:\" + str(prediction[0]) + \", Actual: \" + str(np.argmax(testLabels[i])))"
   ]
  },
  {
   "cell_type": "code",
   "execution_count": null,
   "metadata": {
    "collapsed": true
   },
   "outputs": [],
   "source": []
  }
 ],
 "metadata": {
  "kernelspec": {
   "display_name": "Python 2",
   "language": "python",
   "name": "python2"
  },
  "language_info": {
   "codemirror_mode": {
    "name": "ipython",
    "version": 2
   },
   "file_extension": ".py",
   "mimetype": "text/x-python",
   "name": "python",
   "nbconvert_exporter": "python",
   "pygments_lexer": "ipython2",
   "version": "2.7.12"
  }
 },
 "nbformat": 4,
 "nbformat_minor": 2
}
